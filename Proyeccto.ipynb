{
 "cells": [
  {
   "cell_type": "markdown",
   "metadata": {},
   "source": [
    "# ESCUELA POLITECNICA NACIONAL \n",
    "### **Nombre:**\n",
    "- Jimenez Freddy \n",
    "- Lema Luis\n",
    "- Molina Mijael\n",
    "- Pilataxi David\n",
    "### **Curso:** GR1CC"
   ]
  },
  {
   "cell_type": "markdown",
   "metadata": {},
   "source": []
  }
 ],
 "metadata": {
  "language_info": {
   "name": "python"
  }
 },
 "nbformat": 4,
 "nbformat_minor": 2
}
