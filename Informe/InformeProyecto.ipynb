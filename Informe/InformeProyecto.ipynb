{
 "cells": [
  {
   "cell_type": "markdown",
   "metadata": {},
   "source": [
    "# Informe del Proyecto de Calculadora de Interés Compuesto\n",
    "### Métodos Numéricos - Primer Bimestre\n",
    "\n",
    "**Integrantes:** Mijael Molina, Freddy Jimenez, David Pilataxi, Luis Lema"
   ]
  },
  {
   "cell_type": "markdown",
   "metadata": {},
   "source": [
    "## Objetivos"
   ]
  },
  {
   "cell_type": "markdown",
   "metadata": {},
   "source": [
    "### Objetivo General\n",
    "Desarrollar una calculadora gráfica de interés compuesto que permita simular y visualizar la evolución de un ahorro con aportes periódicos y diferentes tasas de interés, implementando una interfaz gráfica interactiva y métodos numéricos en Python.\n",
    "\n",
    "### Objetivos Específicos\n",
    "- Implementar una clase `interes` que realice cálculos precisos de interés compuesto.\n",
    "- Crear gráficos que representen visualmente el crecimiento del ahorro en función del tiempo.\n",
    "- Desarrollar una interfaz gráfica amigable usando `tkinter` que permita a los usuarios ingresar datos y obtener resultados de manera sencilla."
   ]
  },
  {
   "cell_type": "markdown",
   "metadata": {},
   "source": [
    "## Analisis de la Formula Realizada\n"
   ]
  },
  {
   "cell_type": "markdown",
   "metadata": {},
   "source": [
    "Con el uso de la formula que nos proporciono el tutor sobre el calculo del interes deducimos la siguiente formula "
   ]
  },
  {
   "cell_type": "markdown",
   "metadata": {},
   "source": [
    "### Formula del Interes Simple\n",
    "$$\n",
    "I = C \\cdot i\n",
    "$$\n",
    "\n",
    "### Fórmula Del Interes Compuesto\n",
    "$$\n",
    "V_f = V_0 (1 + i)^n\n",
    "$$\n",
    "\n",
    "### Primera Iteración\n",
    "$$\n",
    "V_1 = a_s + V_0 + I \n",
    "$$\n",
    "$$\n",
    "V_1 = V_0 (1 + i)^1 = c\n",
    "$$\n",
    "\n",
    "### Segunda Iteración\n",
    "$$\n",
    "V_2 = a_s + V_1 \\cdot I\n",
    "$$\n",
    "$$\n",
    "V_2 = a_s + V_0 (1 + i) + V_0 (1 + i) \\cdot i\n",
    "$$\n",
    "$$\n",
    "V_2 = a_s + V_0 (1 + i)^2\n",
    "$$\n",
    "\n",
    "### Tercera Iteración\n",
    "$$\n",
    "V_3 = a_s + V_2 + I\n",
    "$$\n",
    "$$\n",
    "V_3 = a_s + (a_s + V_0 (1 + i)^2) + (a_s + V_0(1 + i)^2) \\cdot i\n",
    "$$\n",
    "$$\n",
    "V_3 = V_0 (1 + i)^3 + a_s (1 + (1 + i))\n",
    "$$\n",
    "\n",
    "### Cuarta Iteración\n",
    "$$\n",
    "V_4 = a_s + V_3 + I\n",
    "$$\n",
    "$$\n",
    "V_4 = a_s + V_0 (1 + i)^3 + a_s (1 + (1 + i)) + (V_0(1 + i)^3 + a_s(1 + (1 + i))) \\cdot i\n",
    "$$\n",
    "$$\n",
    "V_4 = V_0 (1 + i)^4 + a_s (1 + (1 + i) + (1 + i)^2)\n",
    "$$\n",
    "\n",
    "### Conclusion \n",
    "- Se puede observar un patron en la formula que se genera a lo largo de 4 iteraciones, las cuales se pueden generalizar a la siguiente formula:\n",
    "$$\n",
    "V_f = V_0 (1 + i)^n + a_s \\sum_{k=0}^{n-2} (1 + i)^k\n",
    "$$"
   ]
  },
  {
   "cell_type": "markdown",
   "metadata": {},
   "source": [
    "## Análisis del Código"
   ]
  },
  {
   "cell_type": "markdown",
   "metadata": {},
   "source": [
    "El programa se divide en dos partes principales:\n",
    "1. **Cálculo del Interés Compuesto:**\n",
    "   - Implementado en la clase `interes`, que calcula el valor final del ahorro a través de métodos numéricos.\n",
    "   - Genera gráficos para visualizar la evolución del ahorro.\n",
    "2. **Interfaz Gráfica:**\n",
    "   - Usando `tkinter`, se crea una ventana donde el usuario puede ingresar los datos iniciales como aportes, tasas y frecuencia.\n",
    "   - Incluye botones, entradas de texto, y gráficos interactivos para facilitar la experiencia del usuario."
   ]
  },
  {
   "cell_type": "markdown",
   "metadata": {},
   "source": [
    "## Descripción del Código"
   ]
  },
  {
   "cell_type": "markdown",
   "metadata": {},
   "source": [
    "### Clase `interes`"
   ]
  },
  {
   "cell_type": "markdown",
   "metadata": {},
   "source": [
    "La clase realiza el cálculo del interés compuesto considerando los aportes periódicos, el depósito inicial y la tasa de interés.\n",
    "\n",
    "- `valorFinal`: Método que calcula el valor final del ahorro en función del número de períodos transcurridos.\n",
    "- `grafica`: Método que genera un gráfico usando `matplotlib` para mostrar la evolución del ahorro.\n",
    "\n",
    "```python\n",
    "class interes: \n",
    "    def __init__(self, v0:float, isem:float, n:int, asem:float):\n",
    "        self.v0 = v0\n",
    "        self.isem = isem / 100\n",
    "        self.n = n\n",
    "        self.asem = asem\n",
    "\n",
    "    def valorFinal(self, periodos) -> float:\n",
    "        termino1 = self.v0 * (1 + self.isem)**periodos\n",
    "        subtermino2 = sum((1 + self.isem)**i for i in range(periodos))\n",
    "        return termino1 + self.asem * subtermino2\n",
    "\n",
    "    def grafica(self):\n",
    "        import matplotlib.pyplot as plt\n",
    "        periodos = np.arange(0, self.n)\n",
    "        valores = [self.valorFinal(p) for p in periodos]\n",
    "        plt.plot(periodos, valores, label='Valor final')\n",
    "        plt.xlabel('Periodos')\n",
    "        plt.ylabel('Ahorro $')\n",
    "        plt.title('Evolución del Ahorro')\n",
    "        plt.legend()\n",
    "        plt.grid()\n",
    "        plt.show()\n",
    "```"
   ]
  },
  {
   "cell_type": "markdown",
   "metadata": {},
   "source": [
    "### Interfaz Gráfica"
   ]
  },
  {
   "cell_type": "markdown",
   "metadata": {},
   "source": [
    "La interfaz permite ingresar valores iniciales y calcular el ahorro a través de botones interactivos.\n",
    "- Se usa `tkinter` para construir la ventana principal.\n",
    "- Incluye elementos como entradas, etiquetas, botones y gráficos interactivos.\n",
    "\n",
    "```python\n",
    "# Resumen del código de la interfaz\n",
    "import tkinter as tk\n",
    "from tkinter import messagebox\n",
    "from matplotlib.backends.backend_tkagg import FigureCanvasTkAgg\n",
    "...\n",
    "ventana = tk.Tk()\n",
    "ventana.geometry('900x750')\n",
    "ventana.title('Calculadora de Interés Compuesto')\n",
    "...\n",
    "ventana.mainloop()\n",
    "```"
   ]
  },
  {
   "cell_type": "markdown",
   "metadata": {},
   "source": [
    "## Ejecución"
   ]
  },
  {
   "cell_type": "markdown",
   "metadata": {},
   "source": [
    "1. Ejecutar el archivo Python.\n",
    "\n",
    "![](imagen5.png)\n",
    "\n",
    "2. Ingresar los datos solicitados: aporte inicial, tasa de interés, aportes periódicos, y número de períodos.\n",
    "\n",
    "![](imagen2.png)\n",
    "\n",
    "3. Seleccionar la frecuencia de los aportes.\n",
    "\n",
    "![](imagen3.png)\n",
    "\n",
    "4. Presionar el botón `Calcular` para obtener el valor final del ahorro y visualizar el gráfico.\n",
    "\n",
    "![](imagen1.png)"
   ]
  },
  {
   "cell_type": "markdown",
   "metadata": {},
   "source": [
    "## Conclusiones"
   ]
  },
  {
   "cell_type": "markdown",
   "metadata": {},
   "source": [
    "- La calculadora permite realizar cálculos precisos de interés compuesto ayudando a una mejor proyección de ahorro.\n",
    "- La integración de la formula deducida con una interfaz gráfica mejora la accesibilidad para el publico general.\n",
    "- La representación gráfica proporciona una visualización clara del comportamiento del ahorro a lo largo del tiempo."
   ]
  },
  {
   "cell_type": "markdown",
   "metadata": {},
   "source": [
    "## Recomendaciones"
   ]
  },
  {
   "cell_type": "markdown",
   "metadata": {},
   "source": [
    "- Se puede ampliar la funcionalidad permitiendo guardar los resultados y gráficos como archivos.\n",
    "- Añadir validaciones adicionales para garantizar la robustez del programa.\n",
    "\n"
   ]
  },
  {
   "cell_type": "markdown",
   "metadata": {},
   "source": []
  }
 ],
 "metadata": {
  "language_info": {
   "name": "python"
  }
 },
 "nbformat": 4,
 "nbformat_minor": 2
}
