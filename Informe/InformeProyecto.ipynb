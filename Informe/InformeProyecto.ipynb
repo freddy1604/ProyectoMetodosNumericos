{
 "cells": [
  {
   "cell_type": "markdown",
   "metadata": {},
   "source": [
    "# Informe del Proyecto de Calculadora de Interés Compuesto\n",
    "### Métodos Numéricos - Primer Bimestre\n",
    "\n",
    "**Integrantes:** Mijael Molina, Freddy Jimenez, David Pilataxi, Luis Lema"
   ]
  },
  {
   "cell_type": "markdown",
   "metadata": {},
   "source": [
    "## Objetivos"
   ]
  },
  {
   "cell_type": "markdown",
   "metadata": {},
   "source": [
    "### Objetivo General\n",
    "Desarrollar una calculadora gráfica de interés compuesto que permita simular y visualizar la evolución de un ahorro con aportes periódicos y diferentes tasas de interés, implementando una interfaz gráfica interactiva y métodos numéricos en Python.\n",
    "\n",
    "### Objetivos Específicos\n",
    "- Implementar una clase `interes` que realice cálculos precisos de interés compuesto.\n",
    "- Crear gráficos que representen visualmente el crecimiento del ahorro en función del tiempo.\n",
    "- Desarrollar una interfaz gráfica amigable usando `tkinter` que permita a los usuarios ingresar datos y obtener resultados de manera sencilla."
   ]
  },
  {
   "cell_type": "markdown",
   "metadata": {},
   "source": [
    "## Analisis de la Formula Realizada\n"
   ]
  },
  {
   "cell_type": "markdown",
   "metadata": {},
   "source": [
    "Con el uso de la formula que nos proporciono el tutor sobre el calculo del interes deducimos la siguiente formula "
   ]
  },
  {
   "cell_type": "markdown",
   "metadata": {},
   "source": [
    "## Análisis del Código"
   ]
  },
  {
   "cell_type": "markdown",
   "metadata": {},
   "source": [
    "El programa se divide en dos partes principales:\n",
    "1. **Cálculo del Interés Compuesto:**\n",
    "   - Implementado en la clase `interes`, que calcula el valor final del ahorro a través de métodos numéricos.\n",
    "   - Genera gráficos para visualizar la evolución del ahorro.\n",
    "2. **Interfaz Gráfica:**\n",
    "   - Usando `tkinter`, se crea una ventana donde el usuario puede ingresar los datos iniciales como aportes, tasas y frecuencia.\n",
    "   - Incluye botones, entradas de texto, y gráficos interactivos para facilitar la experiencia del usuario."
   ]
  },
  {
   "cell_type": "markdown",
   "metadata": {},
   "source": [
    "## Descripción del Código"
   ]
  },
  {
   "cell_type": "markdown",
   "metadata": {},
   "source": [
    "### Clase `interes`"
   ]
  },
  {
   "cell_type": "markdown",
   "metadata": {},
   "source": [
    "La clase realiza el cálculo del interés compuesto considerando los aportes periódicos, el depósito inicial y la tasa de interés.\n",
    "\n",
    "- `valorFinal`: Método que calcula el valor final del ahorro en función del número de períodos transcurridos.\n",
    "- `grafica`: Método que genera un gráfico usando `matplotlib` para mostrar la evolución del ahorro.\n",
    "\n",
    "```python\n",
    "class interes: \n",
    "    def __init__(self, v0:float, isem:float, n:int, asem:float):\n",
    "        self.v0 = v0\n",
    "        self.isem = isem / 100\n",
    "        self.n = n\n",
    "        self.asem = asem\n",
    "\n",
    "    def valorFinal(self, periodos) -> float:\n",
    "        termino1 = self.v0 * (1 + self.isem)**periodos\n",
    "        subtermino2 = sum((1 + self.isem)**i for i in range(periodos))\n",
    "        return termino1 + self.asem * subtermino2\n",
    "\n",
    "    def grafica(self):\n",
    "        import matplotlib.pyplot as plt\n",
    "        periodos = np.arange(0, self.n)\n",
    "        valores = [self.valorFinal(p) for p in periodos]\n",
    "        plt.plot(periodos, valores, label='Valor final')\n",
    "        plt.xlabel('Periodos')\n",
    "        plt.ylabel('Ahorro $')\n",
    "        plt.title('Evolución del Ahorro')\n",
    "        plt.legend()\n",
    "        plt.grid()\n",
    "        plt.show()\n",
    "```"
   ]
  },
  {
   "cell_type": "markdown",
   "metadata": {},
   "source": [
    "### Interfaz Gráfica"
   ]
  },
  {
   "cell_type": "markdown",
   "metadata": {},
   "source": [
    "La interfaz permite ingresar valores iniciales y calcular el ahorro a través de botones interactivos.\n",
    "- Se usa `tkinter` para construir la ventana principal.\n",
    "- Incluye elementos como entradas, etiquetas, botones y gráficos interactivos.\n",
    "\n",
    "```python\n",
    "# Resumen del código de la interfaz\n",
    "import tkinter as tk\n",
    "from tkinter import messagebox\n",
    "from matplotlib.backends.backend_tkagg import FigureCanvasTkAgg\n",
    "...\n",
    "ventana = tk.Tk()\n",
    "ventana.geometry('900x750')\n",
    "ventana.title('Calculadora de Interés Compuesto')\n",
    "...\n",
    "ventana.mainloop()\n",
    "```"
   ]
  },
  {
   "cell_type": "markdown",
   "metadata": {},
   "source": [
    "## Ejecución"
   ]
  },
  {
   "cell_type": "markdown",
   "metadata": {},
   "source": [
    "1. Ejecutar el archivo Python.\n",
    "\n",
    "![](imagen5.png)\n",
    "\n",
    "2. Ingresar los datos solicitados: aporte inicial, tasa de interés, aportes periódicos, y número de períodos.\n",
    "\n",
    "![](imagen2.png)\n",
    "\n",
    "3. Seleccionar la frecuencia de los aportes.\n",
    "\n",
    "![](imagen3.png)\n",
    "\n",
    "4. Presionar el botón `Calcular` para obtener el valor final del ahorro y visualizar el gráfico.\n",
    "\n",
    "![](imagen1.png)"
   ]
  },
  {
   "cell_type": "markdown",
   "metadata": {},
   "source": [
    "## Conclusiones"
   ]
  },
  {
   "cell_type": "markdown",
   "metadata": {},
   "source": [
    "- La calculadora permite realizar cálculos precisos de interés compuesto, facilitando la proyección financiera.\n",
    "- La integración de métodos numéricos con una interfaz gráfica mejora la accesibilidad para el usuario final.\n",
    "- La representación gráfica proporciona una visualización clara del comportamiento del ahorro a lo largo del tiempo."
   ]
  },
  {
   "cell_type": "markdown",
   "metadata": {},
   "source": [
    "## Recomendaciones"
   ]
  },
  {
   "cell_type": "markdown",
   "metadata": {},
   "source": [
    "- Se puede ampliar la funcionalidad permitiendo guardar los resultados y gráficos como archivos.\n",
    "- Añadir validaciones adicionales para garantizar la robustez del programa.\n",
    "- Explorar bibliotecas como `PyQt` para interfaces gráficas más avanzadas.\n"
   ]
  }
 ],
 "metadata": {
  "language_info": {
   "name": "python"
  }
 },
 "nbformat": 4,
 "nbformat_minor": 2
}
