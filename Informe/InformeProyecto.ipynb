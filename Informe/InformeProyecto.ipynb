{
 "cells": [
  {
   "cell_type": "markdown",
   "metadata": {},
   "source": [
    "# Informe: Cálculo de Interés Compuesto\n",
    "\n",
    "## **1. Objetivos**\n",
    "\n",
    "### **1.1 Objetivo General**\n",
    "Desarrollar y analizar un programa en Python que permita calcular el valor final de una inversión con interés compuesto, incorporando aportes regulares y visualización de resultados.\n",
    "\n",
    "### **1.2 Objetivos Específicos**\n",
    "1. Implementar una interfaz gráfica que permita al usuario ingresar los datos requeridos para el cálculo del interés compuesto.\n",
    "2. Utilizar una clase en Python para realizar el cálculo del valor final de la inversión, separando la lógica del programa.\n",
    "3. Visualizar una representación gráfica de los resultados obtenidos y mostrar el valor final en pantalla.\n",
    "4. Promover buenas prácticas de programación mediante el uso de modularidad y comentarios explicativos.\n"
   ]
  },
  {
   "cell_type": "markdown",
   "metadata": {},
   "source": [
    "## **2. Descripción del Código**\n",
    "\n",
    "### **2.1 Clase `interes`**\n",
    "Esta clase realiza el cálculo del interés compuesto, dividiendo el cálculo en dos componentes:\n",
    "1. Crecimiento del depósito inicial (\\( v_0 \\)) debido al interés compuesto.\n",
    "2. Acumulación de los aportes semanales con interés.\n",
    "\n",
    "### **2.2 Interfaz Gráfica (Tkinter)**\n",
    "Crea una ventana interactiva que permite al usuario:\n",
    "- Ingresar valores de entrada para el cálculo.\n",
    "- Seleccionar la periodicidad del cálculo mediante radio buttons.\n",
    "- Ver una gráfica del crecimiento del capital y el resultado final calculado.\n"
   ]
  },
  {
   "cell_type": "markdown",
   "metadata": {},
   "source": [
    "# Código de la clase `interes`\n",
    "\n",
    "class interes: \n",
    "    def __init__(self, v0: float, isem: float, n: int, asem: float):\n",
    "        self.v0 = v0\n",
    "        self.isem = isem / 100  # Conversión de porcentaje a decimal\n",
    "        self.n = n\n",
    "        self.asem = asem\n",
    "\n",
    "    def valorFinal(self) -> float: \n",
    "        # Crecimiento del depósito inicial\n",
    "        termino1 = self.v0 * (1 + self.isem) ** self.n\n",
    "        # Suma de los aportes con interés\n",
    "        subtermino2 = sum((1 + self.isem) ** i for i in range(self.n))\n",
    "        return termino1 + self.asem * subtermino2\n"
   ]
  },
  {
   "cell_type": "markdown",
   "metadata": {},
   "source": [
    "### **2.3 Código de la Interfaz Gráfica**\n",
    "\n",
    "La interfaz gráfica utiliza **Tkinter** para crear una ventana con campos de entrada, botones, y un gráfico básico."
   ]
  },
  {
   "cell_type": "markdown",
   "metadata": {},
   "source": [
    "# Interfaz gráfica\n",
    "import tkinter\n",
    "\n",
    "### Conversión de colores a hexadecimal\n",
    "def RGB_Hexadecimal(rojo: int, verde: int, azul: int): \n",
    "    return \"#%02x%02x%02x\" % (rojo, verde, azul)\n",
    "\n",
    "### Configuración de la ventana\n",
    "ventana = tkinter.Tk()\n",
    "ventana.geometry(\"900x750\")\n",
    "ventana.title(\"Calculadora de Interés Compuesto\")\n",
    "ventana.config(background=RGB_Hexadecimal(255, 250, 250))\n",
    "\n",
    "### Configuración de etiquetas, entradas y botones\n",
    "titulo = tkinter.Label(ventana, text=\"Cálculo de Interés Compuesto\", font=(\"Arial\", 20, \"bold\"), bg=RGB_Hexadecimal(0, 255, 255))\n",
    "titulo.pack()\n",
    "\n",
    "### Ejemplo de cómo crear más elementos (completo en el código proporcionado antes)\n",
    "\n",
    "ventana.mainloop()"
   ]
  },
  {
   "cell_type": "markdown",
   "metadata": {},
   "source": [
    "## **3. Procedimiento del Código**\n",
    "\n",
    "### **3.1 Clase `interes`**\n",
    "1. Inicialización: Recibe los valores iniciales y parámetros como argumentos.\n",
    "2. Método `valorFinal`: Realiza el cálculo del interés compuesto y suma los aportes acumulados.\n",
    "\n",
    "### **3.2 Interfaz Gráfica**\n",
    "1. Crea una ventana principal con etiquetas y entradas para cada parámetro.\n",
    "2. Integra botones y gráficos que representan el resultado del cálculo.\n",
    "\n",
    "---"
   ]
  },
  {
   "cell_type": "markdown",
   "metadata": {},
   "source": [
    "## **4. Ejecución del Programa**\n",
    "\n",
    "### **4.1 Requisitos Previos**\n",
    "1. Instalar Python 3.x.\n",
    "2. Tener ambos códigos en el mismo directorio.\n",
    "\n",
    "### **4.2 Pasos de Ejecución**\n",
    "1. Guardar la clase `interes` en un archivo `interes.py`.\n",
    "2. Ejecutar el archivo principal con:\n",
    "```bash\n",
    "python calculadora.py"
   ]
  },
  {
   "cell_type": "markdown",
   "metadata": {},
   "source": [
    "\n",
    "## **5. Ejecución Observada**\n",
    "![](Imagen1.png)\n",
    "\n",
    "### **5.1 Resultados Esperados**\n",
    "- Valor final calculado mostrado en pantalla.\n",
    "- Gráfica aproximada del crecimiento del capital.\n",
    "\n",
    "### **5.2 Resultados Obtenidos**\n",
    "- Se observa que la clase `interes` realiza correctamente el cálculo del interés compuesto.\n",
    "- La interfaz gráfica muestra adecuadamente los datos, aunque falta vincular el cálculo al botón.\n",
    "\n",
    "![](imagen2.png)"
   ]
  },
  {
   "cell_type": "markdown",
   "metadata": {},
   "source": [
    "## **6. Conclusiones**\n",
    "\n",
    "1. El programa demuestra un diseño modular al separar la lógica (cálculo) de la presentación (interfaz gráfica).\n",
    "2. La clase `interes` realiza correctamente el cálculo del valor final de la inversión.\n",
    "3. La interfaz gráfica facilita la interacción del usuario, pero carece de conexión funcional con la lógica.\n",
    "\n",
    "---\n",
    "\n",
    "## **7. Recomendaciones**\n",
    "\n",
    "1. Conectar el botón \"Calcular\" de la interfaz gráfica al método `valorFinal` de la clase.\n",
    "2. Corregir el cálculo de los aportes acumulados en la clase.\n",
    "3. Utilizar librerías como **matplotlib** para mejorar la calidad gráfica.\n",
    "4. Incorporar validaciones para manejar posibles errores en la entrada de datos."
   ]
  },
  {
   "cell_type": "markdown",
   "metadata": {},
   "source": []
  }
 ],
 "metadata": {
  "language_info": {
   "name": "python"
  }
 },
 "nbformat": 4,
 "nbformat_minor": 2
}
